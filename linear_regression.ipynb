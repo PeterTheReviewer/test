{
 "cells": [
  {
   "cell_type": "markdown",
   "metadata": {},
   "source": [
    "# Linear Regression"
   ]
  },
  {
   "cell_type": "markdown",
   "metadata": {},
   "source": [
    "### Defination\n",
    "\n",
    " 在target variable 与input variable之间建立形如$f(x)=kx+b$线性关系。记actual value为$y_{real}$,target variable为$y_{pred}$,线性模型试图使$y_{pred}$逼近$y_{real}$\n",
    "\n",
    "> 更一般的线性关系$f(x) = w_1x_1 + w_2x_2 + .. ... w_dx_d + b$;<br/>\n",
    "> 向量形式$f(x)={w^\\top}x+b$;<br>\n",
    "> b可以吸收到向量w中"
   ]
  },
  {
   "cell_type": "markdown",
   "metadata": {},
   "source": [
    "## Question1\n",
    "概念理解是否正确？是否还需要补充？\n",
    "\n",
    " 回复 : *** 正确的 ***"
   ]
  },
  {
   "cell_type": "markdown",
   "metadata": {},
   "source": [
    "### 如何确定线性模型里的w和b\n",
    "我们通过minimize cost function来求得w和b,cost function可以有多种，这里我们用均方误差/最小二乘法\n",
    "$$\n",
    "(w^*,b^*) = \\frac{1}{2m}\\sum_{i=1}^{m}(f(x_{i})-y_i)^2\n",
    "$$\n",
    "我们把求解w和b的问题转化为minimize cost function的问题"
   ]
  },
  {
   "cell_type": "markdown",
   "metadata": {},
   "source": [
    "## Question2\n",
    "最小均方误差／最小二乘法 ---这两个概念是否等价？ <br>\n",
    "  --uncle ren 观点是等价的　<br> \n",
    "\n",
    "#### 最小二乘法最小化的对象是均方差. 这两个概念基本是等价的.\n",
    "  \n",
    "  \n",
    "  \n",
    "cost function/loss function ---这两个概念是否等价？<br>\n",
    "为什么用均方误差/最小二乘法？它有什么特点？\n",
    "\n",
    "\n",
    "#### 回复\n",
    "1. 等价\n",
    "2. 这个损失函数它可以求导, 用梯度下降法的前提是损失函数可以求导\n"
   ]
  },
  {
   "cell_type": "markdown",
   "metadata": {
    "collapsed": true
   },
   "source": [
    "### 如何求解cost function\n",
    "\n",
    "- Gradient descent\n",
    "- Normal equation\n",
    "\n",
    "#### 梯度下降\n",
    "导数微分图解\n",
    "<img src=\"./derivative.jpg\" />\n",
    "gradient intuition<br>\n",
    "https://www.youtube.com/watch?v=GkB4vW16QHI\n",
    "\n",
    "在函数的的某一点处，函数沿梯度方向具有最大的变化率，那么在优化目标函数时，沿着负梯度方向去减小函数值，以此达到我们的优化目标。\n",
    "\n",
    "\\begin{equation} \\label{2}\n",
    "gradf(x_0,...,x_j,...,x_n) = (\\frac{\\partial f}{\\partial x_0},...,\\frac{\\partial f}{\\partial x_j},...,\\frac{\\partial f}{\\partial x_n})\n",
    "\\end{equation}\n",
    "\n",
    "update each value until convergence\n",
    "\n",
    "\\begin{equation} \\label{3}\n",
    "x_j = x_j - \\alpha \\frac{\\partial f}{\\partial x_j}\n",
    "\\end{equation}\n",
    "\n",
    "How to choose $\\alpha$ <br>\n",
    "too small convergence slow <br>\n",
    "too big may not convergence \n",
    "\n",
    "feature normalization,scaling \n",
    "#### Normal equation\n",
    "\\begin{equation} \\label{4}\n",
    "w^* = ({X^\\top}X)^{-1}X^{\\top}y\n",
    "\\end{equation}\n"
   ]
  },
  {
   "cell_type": "markdown",
   "metadata": {},
   "source": [
    "### Question3 \n",
    "<<机器学习>>里关于normal equation的推导没懂？？？\n",
    "\n",
    "#### 周志华的是吧? "
   ]
  },
  {
   "cell_type": "markdown",
   "metadata": {},
   "source": [
    "### Question4\n",
    "还有哪些非常常用的回归模型？\n",
    "多项式回归，岭回归，等等需要掌握吗？\n",
    "\n",
    "线性回归和多项式回归就能搞定大部分问题.\n",
    "**回复** : 先不用掌握岭回归 ,我自己还没看, 不过我现在在学https://www.youtube.com/watch?v=5asL5Eq2x0A"
   ]
  },
  {
   "cell_type": "markdown",
   "metadata": {},
   "source": [
    "### Examples"
   ]
  },
  {
   "cell_type": "markdown",
   "metadata": {
    "collapsed": true
   },
   "source": [
    "#### sklearn\n",
    "LinearRegression: http://scikit-learn.org/stable/modules/linear_model.html"
   ]
  },
  {
   "cell_type": "code",
   "execution_count": 1,
   "metadata": {
    "collapsed": false
   },
   "outputs": [
    {
     "data": {
      "text/plain": [
       "array([ 0.5,  0.5])"
      ]
     },
     "execution_count": 1,
     "metadata": {},
     "output_type": "execute_result"
    }
   ],
   "source": [
    "from sklearn import linear_model\n",
    "reg = linear_model.LinearRegression()\n",
    "reg.fit ([[0, 0], [1, 1], [2, 2]], [0, 1, 2])\n",
    "reg.coef_"
   ]
  },
  {
   "cell_type": "code",
   "execution_count": null,
   "metadata": {
    "collapsed": true
   },
   "outputs": [],
   "source": []
  }
 ],
 "metadata": {
  "kernelspec": {
   "display_name": "Python [Root]",
   "language": "python",
   "name": "Python [Root]"
  },
  "language_info": {
   "codemirror_mode": {
    "name": "ipython",
    "version": 2
   },
   "file_extension": ".py",
   "mimetype": "text/x-python",
   "name": "python",
   "nbconvert_exporter": "python",
   "pygments_lexer": "ipython2",
   "version": "2.7.12"
  }
 },
 "nbformat": 4,
 "nbformat_minor": 2
}
